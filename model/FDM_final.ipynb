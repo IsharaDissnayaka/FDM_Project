{
  "nbformat": 4,
  "nbformat_minor": 0,
  "metadata": {
    "colab": {
      "provenance": []
    },
    "kernelspec": {
      "name": "python3",
      "display_name": "Python 3"
    },
    "language_info": {
      "name": "python"
    }
  },
  "cells": [
    {
      "cell_type": "code",
      "execution_count": 3,
      "metadata": {
        "colab": {
          "base_uri": "https://localhost:8080/"
        },
        "id": "DZibwKiCaEGf",
        "outputId": "cca26aba-29b2-4463-c6fa-d65ed0363479"
      },
      "outputs": [
        {
          "output_type": "stream",
          "name": "stdout",
          "text": [
            "Mounted at /content/drive\n"
          ]
        }
      ],
      "source": [
        "from google.colab import drive\n",
        "drive.mount('/content/drive')"
      ]
    },
    {
      "cell_type": "code",
      "source": [
        "%cd /content/drive/MyDrive/Y3.S1 FDM"
      ],
      "metadata": {
        "colab": {
          "base_uri": "https://localhost:8080/"
        },
        "id": "SmSqaiLbaLnA",
        "outputId": "d2716362-b004-4021-b70c-19a8de631273"
      },
      "execution_count": 4,
      "outputs": [
        {
          "output_type": "stream",
          "name": "stdout",
          "text": [
            "/content/drive/MyDrive/Y3.S1 FDM\n"
          ]
        }
      ]
    },
    {
      "cell_type": "code",
      "source": [
        "# Import necessary libraries\n",
        "import pandas as pd\n",
        "from sklearn.model_selection import train_test_split, GridSearchCV\n",
        "from sklearn.ensemble import RandomForestClassifier\n",
        "from sklearn.metrics import accuracy_score, classification_report\n",
        "from sklearn.preprocessing import LabelEncoder\n",
        "from sklearn.feature_selection import mutual_info_classif"
      ],
      "metadata": {
        "id": "mMjvS1nqtmT0"
      },
      "execution_count": 5,
      "outputs": []
    },
    {
      "cell_type": "code",
      "source": [
        "# Load the dataset\n",
        "data = pd.read_csv(\"student mental health_1.csv\")"
      ],
      "metadata": {
        "id": "cqwbagwbtmQD"
      },
      "execution_count": 6,
      "outputs": []
    },
    {
      "cell_type": "code",
      "source": [
        "# Data Preprocessing\n",
        "\n",
        "# Feature Engineering\n",
        "\n",
        "# 1. Create Age Groups based on Age\n",
        "data['Age_Group'] = pd.cut(data['Age'], bins=[0, 19, 29, 39, float('inf')],\n",
        "                          labels=['Teen', 'Young Adult', 'Adult', 'Senior'])\n",
        "\n",
        "# 2. Categorize Credit Load into Low, Medium, and High\n",
        "data['Credit_Load_Category'] = pd.cut(data['Semester_Credit_Load'], bins=[15, 20, 25, float('inf')],\n",
        "                                      labels=['Low', 'Medium', 'High'])\n",
        "\n",
        "# 3. Categorize CGPA into Low, Medium, High, and Excellent\n",
        "data['CGPA_Category'] = pd.cut(data['CGPA'], bins=[0, 3, 3.5, 4, float('inf')],\n",
        "                              labels=['Low', 'Medium', 'High', 'Excellent'])\n",
        "\n",
        "# Handle Missing Data\n",
        "\n",
        "# Handle missing values in numerical columns by filling with the mean\n",
        "numerical_columns = ['Age', 'CGPA', 'Stress_Level', 'Depression_Score', 'Anxiety_Score', 'Financial_Stress', 'Semester_Credit_Load']\n",
        "data[numerical_columns] = data[numerical_columns].fillna(data[numerical_columns].mean())\n",
        "\n",
        "# Handle missing values in categorical columns by filling with the mode (most frequent value)\n",
        "categorical_columns = [\n",
        "    'Course', 'Gender', 'Sleep_Quality', 'Physical_Activity', 'Diet_Quality', 'Social_Support',\n",
        "    'Relationship_Status', 'Substance_Use', 'Counseling_Service_Use', 'Family_History',\n",
        "    'Chronic_Illness', 'Extracurricular_Involvement', 'Residence_Type',\n",
        "    'Age_Group', 'Credit_Load_Category', 'CGPA_Category']\n",
        "\n",
        "for col in categorical_columns:\n",
        "    data[col].fillna(data[col].mode()[0], inplace=True)\n",
        "\n",
        "# Encode Categorical Data\n",
        "\n",
        "# Use LabelEncoder to convert categorical columns into numerical values\n",
        "label_encoder = LabelEncoder()\n",
        "for col in categorical_columns:\n",
        "    data[col] = label_encoder.fit_transform(data[col])\n",
        "\n",
        "# Remove duplicate records\n",
        "data = data.drop_duplicates()\n",
        "\n",
        "# Handle Outliers\n",
        "\n",
        "# Calculate summary statistics for the dataset\n",
        "summary = data.describe()\n",
        "Q1 = summary.loc['25%']\n",
        "Q3 = summary.loc['75%']\n",
        "IQR = Q3 - Q1\n",
        "lower_bound = Q1 - 1.5 * IQR\n",
        "upper_bound = Q3 + 1.5 * IQR\n",
        "\n",
        "# Identify and remove outliers using the IQR method\n",
        "is_outlier = ((data < lower_bound) | (data > upper_bound)).any(axis=1)\n",
        "data = data[~is_outlier]\n",
        "\n",
        "# Drop the \"Semester_Credit_Load\" column\n",
        "data = data.drop(columns=['Semester_Credit_Load'])\n",
        "#data = data.drop(columns=['Age'])\n",
        "\n",
        "# Map Stress_Level to binary values\n",
        "\n",
        "# Map stress level values to binary categories\n",
        "stress_level_mapping = {0: 0, 1: 1, 2: 1, 3: 2, 4: 2, 5: 3}\n",
        "data['Stress_Level'] = data['Stress_Level'].replace(stress_level_mapping)\n",
        "\n",
        "# Split the data into features (X) and the target (y)\n",
        "X = data.drop(columns=['Stress_Level'])\n",
        "y = data['Stress_Level']\n",
        "\n",
        "# Split the data into a training set and a testing set\n",
        "X_train, X_test, y_train, y_test = train_test_split(X, y, test_size=0.2, random_state=42)"
      ],
      "metadata": {
        "id": "eaRm7RqvtmMR"
      },
      "execution_count": 7,
      "outputs": []
    },
    {
      "cell_type": "code",
      "source": [
        "# Find Feature Dependencies\n",
        "# Calculate Mutual Information for Feature Selection\n",
        "\n",
        "# Calculate mutual information between features and the target variable\n",
        "mutual_info = mutual_info_classif(X, y)\n",
        "mutual_info_series = pd.Series(mutual_info, index=X.columns)\n",
        "mutual_info_series.sort_values(ascending=False, inplace=True)\n",
        "print(mutual_info_series)"
      ],
      "metadata": {
        "id": "7T9CKuPmjWHc",
        "colab": {
          "base_uri": "https://localhost:8080/"
        },
        "outputId": "504de518-1e48-468f-9db8-16d8cb6297a0"
      },
      "execution_count": 8,
      "outputs": [
        {
          "output_type": "stream",
          "name": "stdout",
          "text": [
            "Depression_Score               0.214983\n",
            "Anxiety_Score                  0.024010\n",
            "Course                         0.018698\n",
            "Gender                         0.017046\n",
            "Substance_Use                  0.015105\n",
            "Age_Group                      0.008280\n",
            "CGPA_Category                  0.008213\n",
            "Physical_Activity              0.007342\n",
            "Diet_Quality                   0.006173\n",
            "Age                            0.005637\n",
            "Social_Support                 0.005490\n",
            "Family_History                 0.004839\n",
            "Sleep_Quality                  0.003844\n",
            "Extracurricular_Involvement    0.001913\n",
            "Residence_Type                 0.000757\n",
            "Counseling_Service_Use         0.000000\n",
            "Chronic_Illness                0.000000\n",
            "Financial_Stress               0.000000\n",
            "CGPA                           0.000000\n",
            "Credit_Load_Category           0.000000\n",
            "Relationship_Status            0.000000\n",
            "dtype: float64\n"
          ]
        }
      ]
    },
    {
      "cell_type": "code",
      "source": [
        "import matplotlib.pyplot as plt\n",
        "import seaborn as sns"
      ],
      "metadata": {
        "id": "W9lOKbgL6sJE"
      },
      "execution_count": 9,
      "outputs": []
    },
    {
      "cell_type": "code",
      "source": [
        "# Create a bar plot for mutual information\n",
        "plt.figure(figsize=(10, 6))\n",
        "sns.barplot(x=mutual_info_series.values, y=mutual_info_series.index, orient=\"h\")\n",
        "plt.title(\"Mutual Information with The Stress Level\")\n",
        "plt.xlabel(\"Mutual Information\")\n",
        "plt.ylabel(\"Features\")\n",
        "plt.show()"
      ],
      "metadata": {
        "id": "Rt38rtMq6sCm",
        "colab": {
          "base_uri": "https://localhost:8080/",
          "height": 564
        },
        "outputId": "42669d38-58b7-4ef3-b713-1bd9d685c2f1"
      },
      "execution_count": 10,
      "outputs": [
        {
          "output_type": "display_data",
          "data": {
            "text/plain": [
              "<Figure size 1000x600 with 1 Axes>"
            ],
            "image/png": "[encoded data removed]"
          },
          "metadata": {}
        }
      ]
    },
    {
      "cell_type": "markdown",
      "source": [
        "# Random Forest Classifier Model"
      ],
      "metadata": {
        "id": "xxcTJyJMj3Zr"
      }
    },
    {
      "cell_type": "code",
      "source": [
        "# Hyperparameter Tuning\n",
        "param_grid = {\n",
        "    'n_estimators': [100, 200, 300],\n",
        "    'max_depth': [5, 10, 15],\n",
        "    'min_samples_split': [2, 5, 10],\n",
        "    'min_samples_leaf': [1, 2, 4]\n",
        "}\n",
        "\n",
        "# GridSearchCV is commented out because the best parameters are already known\n",
        "# grid_search = GridSearchCV(RandomForestClassifier(random_state=42), param_grid, cv=3, n_jobs=-1)\n",
        "# grid_search.fit(X_train, y_train)\n",
        "# best_params = grid_search.best_params_\n",
        "\n",
        "# Manually set the best hyperparameters based on the grid search results\n",
        "best_params = {'max_depth': 5,\n",
        " 'min_samples_leaf': 4,\n",
        " 'min_samples_split': 10,\n",
        " 'n_estimators': 100}\n",
        "\n",
        "# Train a random forest classifier model with the best hyperparameters\n",
        "best_model = RandomForestClassifier(random_state=42, **best_params)\n",
        "best_model.fit(X_train, y_train)\n",
        "\n",
        "# Make predictions on the test set\n",
        "y_pred = best_model.predict(X_test)\n",
        "\n",
        "# Evaluate the model\n",
        "accuracy = accuracy_score(y_test, y_pred)\n",
        "report = classification_report(y_test, y_pred)"
      ],
      "metadata": {
        "id": "VfEo3dtVt33k"
      },
      "execution_count": 11,
      "outputs": []
    },
    {
      "cell_type": "code",
      "source": [
        "print(\"Model Accuracy:\", accuracy)\n",
        "#print(\"Best Hyperparameters:\", best_params)\n",
        "print(\"Classification Report:\\n\", report)"
      ],
      "metadata": {
        "colab": {
          "base_uri": "https://localhost:8080/"
        },
        "id": "Rs_DnEwvt3zY",
        "outputId": "c40eb69d-4236-4b05-abc6-29f12aa147ad"
      },
      "execution_count": 12,
      "outputs": [
        {
          "output_type": "stream",
          "name": "stdout",
          "text": [
            "Model Accuracy: 0.8357348703170029\n",
            "Classification Report:\n",
            "               precision    recall  f1-score   support\n",
            "\n",
            "           1       0.88      0.83      0.85       593\n",
            "           2       0.79      0.84      0.82       448\n",
            "\n",
            "    accuracy                           0.84      1041\n",
            "   macro avg       0.83      0.84      0.83      1041\n",
            "weighted avg       0.84      0.84      0.84      1041\n",
            "\n"
          ]
        }
      ]
    },
    {
      "cell_type": "markdown",
      "source": [
        "Gradient Boosting (XGBoost):"
      ],
      "metadata": {
        "id": "mRlDLwKRj7e7"
      }
    },
    {
      "cell_type": "code",
      "source": [
        "import xgboost as xgb\n",
        "\n",
        "# Define hyperparameters\n",
        "params = {\n",
        "    'max_depth': 5,\n",
        "    'learning_rate': 0.1,\n",
        "    'n_estimators': 100,\n",
        "    'min_child_weight': 1,\n",
        "    'subsample': 0.8,\n",
        "    'colsample_bytree': 0.8,\n",
        "    'objective': 'binary:logistic',\n",
        "    'random_state': 42\n",
        "}\n",
        "\n",
        "# Create and train the XGBoost model\n",
        "xgb_model = xgb.XGBClassifier(**params)\n",
        "xgb_model.fit(X_train, y_train)\n",
        "\n",
        "# Make predictions and evaluate\n",
        "y_pred_xgb = xgb_model.predict(X_test)\n",
        "accuracy_xgb = accuracy_score(y_test, y_pred_xgb)\n",
        "report_xgb = classification_report(y_test, y_pred_xgb)\n",
        "\n",
        "print(\"XGBoost Model Results:\")\n",
        "print(f\"Accuracy: {accuracy_xgb:.2f}\")\n",
        "print(\"Classification Report:\\n\", report_xgb)"
      ],
      "metadata": {
        "colab": {
          "base_uri": "https://localhost:8080/",
          "height": 421
        },
        "id": "q047aUEMjygM",
        "outputId": "466ea55b-d659-4b9a-9d16-29d27c9cfddf"
      },
      "execution_count": 16,
      "outputs": [
        {
          "output_type": "error",
          "ename": "ValueError",
          "evalue": "ignored",
          "traceback": [
            "\u001b[0;31m---------------------------------------------------------------------------\u001b[0m",
            "\u001b[0;31mValueError\u001b[0m                                Traceback (most recent call last)",
            "\u001b[0;32m<ipython-input-16-3def43329a25>\u001b[0m in \u001b[0;36m<cell line: 17>\u001b[0;34m()\u001b[0m\n\u001b[1;32m     15\u001b[0m \u001b[0;31m# Create and train the XGBoost model\u001b[0m\u001b[0;34m\u001b[0m\u001b[0;34m\u001b[0m\u001b[0m\n\u001b[1;32m     16\u001b[0m \u001b[0mxgb_model\u001b[0m \u001b[0;34m=\u001b[0m \u001b[0mxgb\u001b[0m\u001b[0;34m.\u001b[0m\u001b[0mXGBClassifier\u001b[0m\u001b[0;34m(\u001b[0m\u001b[0;34m**\u001b[0m\u001b[0mparams\u001b[0m\u001b[0;34m)\u001b[0m\u001b[0;34m\u001b[0m\u001b[0;34m\u001b[0m\u001b[0m\n\u001b[0;32m---> 17\u001b[0;31m \u001b[0mxgb_model\u001b[0m\u001b[0;34m.\u001b[0m\u001b[0mfit\u001b[0m\u001b[0;34m(\u001b[0m\u001b[0mX_train\u001b[0m\u001b[0;34m,\u001b[0m \u001b[0my_train\u001b[0m\u001b[0;34m)\u001b[0m\u001b[0;34m\u001b[0m\u001b[0;34m\u001b[0m\u001b[0m\n\u001b[0m\u001b[1;32m     18\u001b[0m \u001b[0;34m\u001b[0m\u001b[0m\n\u001b[1;32m     19\u001b[0m \u001b[0;31m# Make predictions and evaluate\u001b[0m\u001b[0;34m\u001b[0m\u001b[0;34m\u001b[0m\u001b[0m\n",
            "\u001b[0;32m/usr/local/lib/python3.10/dist-packages/xgboost/core.py\u001b[0m in \u001b[0;36minner_f\u001b[0;34m(*args, **kwargs)\u001b[0m\n\u001b[1;32m    727\u001b[0m             \u001b[0;32mfor\u001b[0m \u001b[0mk\u001b[0m\u001b[0;34m,\u001b[0m \u001b[0marg\u001b[0m \u001b[0;32min\u001b[0m \u001b[0mzip\u001b[0m\u001b[0;34m(\u001b[0m\u001b[0msig\u001b[0m\u001b[0;34m.\u001b[0m\u001b[0mparameters\u001b[0m\u001b[0;34m,\u001b[0m \u001b[0margs\u001b[0m\u001b[0;34m)\u001b[0m\u001b[0;34m:\u001b[0m\u001b[0;34m\u001b[0m\u001b[0;34m\u001b[0m\u001b[0m\n\u001b[1;32m    728\u001b[0m                 \u001b[0mkwargs\u001b[0m\u001b[0;34m[\u001b[0m\u001b[0mk\u001b[0m\u001b[0;34m]\u001b[0m \u001b[0;34m=\u001b[0m \u001b[0marg\u001b[0m\u001b[0;34m\u001b[0m\u001b[0;34m\u001b[0m\u001b[0m\n\u001b[0;32m--> 729\u001b[0;31m             \u001b[0;32mreturn\u001b[0m \u001b[0mfunc\u001b[0m\u001b[0;34m(\u001b[0m\u001b[0;34m**\u001b[0m\u001b[0mkwargs\u001b[0m\u001b[0;34m)\u001b[0m\u001b[0;34m\u001b[0m\u001b[0;34m\u001b[0m\u001b[0m\n\u001b[0m\u001b[1;32m    730\u001b[0m \u001b[0;34m\u001b[0m\u001b[0m\n\u001b[1;32m    731\u001b[0m         \u001b[0;32mreturn\u001b[0m \u001b[0minner_f\u001b[0m\u001b[0;34m\u001b[0m\u001b[0;34m\u001b[0m\u001b[0m\n",
            "\u001b[0;32m/usr/local/lib/python3.10/dist-packages/xgboost/sklearn.py\u001b[0m in \u001b[0;36mfit\u001b[0;34m(self, X, y, sample_weight, base_margin, eval_set, eval_metric, early_stopping_rounds, verbose, xgb_model, sample_weight_eval_set, base_margin_eval_set, feature_weights, callbacks)\u001b[0m\n\u001b[1;32m   1465\u001b[0m                 \u001b[0;32mor\u001b[0m \u001b[0;32mnot\u001b[0m \u001b[0;34m(\u001b[0m\u001b[0mclasses\u001b[0m \u001b[0;34m==\u001b[0m \u001b[0mexpected_classes\u001b[0m\u001b[0;34m)\u001b[0m\u001b[0;34m.\u001b[0m\u001b[0mall\u001b[0m\u001b[0;34m(\u001b[0m\u001b[0;34m)\u001b[0m\u001b[0;34m\u001b[0m\u001b[0;34m\u001b[0m\u001b[0m\n\u001b[1;32m   1466\u001b[0m             ):\n\u001b[0;32m-> 1467\u001b[0;31m                 raise ValueError(\n\u001b[0m\u001b[1;32m   1468\u001b[0m                     \u001b[0;34mf\"Invalid classes inferred from unique values of `y`.  \"\u001b[0m\u001b[0;34m\u001b[0m\u001b[0;34m\u001b[0m\u001b[0m\n\u001b[1;32m   1469\u001b[0m                     \u001b[0;34mf\"Expected: {expected_classes}, got {classes}\"\u001b[0m\u001b[0;34m\u001b[0m\u001b[0;34m\u001b[0m\u001b[0m\n",
            "\u001b[0;31mValueError\u001b[0m: Invalid classes inferred from unique values of `y`.  Expected: [0 1], got [1 2]"
          ]
        }
      ]
    },
    {
      "cell_type": "markdown",
      "source": [
        "Support Vector Machine (SVM):"
      ],
      "metadata": {
        "id": "nyGdkqyGj78L"
      }
    },
    {
      "cell_type": "code",
      "source": [
        "from sklearn.svm import SVC\n",
        "\n",
        "# Define hyperparameters\n",
        "svm_model = SVC(kernel='linear', C=1.0, random_state=42)\n",
        "\n",
        "# Train the SVM model\n",
        "svm_model.fit(X_train, y_train)\n",
        "\n",
        "# Make predictions and evaluate\n",
        "y_pred_svm = svm_model.predict(X_test)\n",
        "accuracy_svm = accuracy_score(y_test, y_pred_svm)\n",
        "report_svm = classification_report(y_test, y_pred_svm)\n",
        "\n",
        "print(\"SVM Model Results:\")\n",
        "print(f\"Accuracy: {accuracy_svm:.2f}\")\n",
        "print(\"Classification Report:\\n\", report_svm)"
      ],
      "metadata": {
        "colab": {
          "base_uri": "https://localhost:8080/"
        },
        "id": "wZ4d5mGnjzI7",
        "outputId": "7bf0a788-816f-4dbd-a3da-cb71ccf74c33"
      },
      "execution_count": 17,
      "outputs": [
        {
          "output_type": "stream",
          "name": "stdout",
          "text": [
            "SVM Model Results:\n",
            "Accuracy: 0.82\n",
            "Classification Report:\n",
            "               precision    recall  f1-score   support\n",
            "\n",
            "           1       0.86      0.81      0.84       593\n",
            "           2       0.77      0.83      0.80       448\n",
            "\n",
            "    accuracy                           0.82      1041\n",
            "   macro avg       0.81      0.82      0.82      1041\n",
            "weighted avg       0.82      0.82      0.82      1041\n",
            "\n"
          ]
        }
      ]
    },
    {
      "cell_type": "markdown",
      "source": [
        "Neural Network (Multi-layer Perceptron - MLP):"
      ],
      "metadata": {
        "id": "0guNozslkhjT"
      }
    },
    {
      "cell_type": "code",
      "source": [
        "from sklearn.neural_network import MLPClassifier\n",
        "\n",
        "# Define hyperparameters\n",
        "mlp_model = MLPClassifier(hidden_layer_sizes=(100, 50), activation='relu', solver='adam', random_state=42)\n",
        "\n",
        "# Train the MLP model\n",
        "mlp_model.fit(X_train, y_train)\n",
        "\n",
        "# Make predictions and evaluate\n",
        "y_pred_mlp = mlp_model.predict(X_test)\n",
        "accuracy_mlp = accuracy_score(y_test, y_pred_mlp)\n",
        "report_mlp = classification_report(y_test, y_pred_mlp)\n",
        "\n",
        "print(\"MLP Model Results:\")\n",
        "print(f\"Accuracy: {accuracy_mlp:.2f}\")\n",
        "print(\"Classification Report:\\n\", report_mlp)"
      ],
      "metadata": {
        "colab": {
          "base_uri": "https://localhost:8080/"
        },
        "id": "f54l1THLkg9M",
        "outputId": "5f2a2416-8db8-4223-97c3-2b1345ae0b4e"
      },
      "execution_count": 18,
      "outputs": [
        {
          "output_type": "stream",
          "name": "stdout",
          "text": [
            "MLP Model Results:\n",
            "Accuracy: 0.80\n",
            "Classification Report:\n",
            "               precision    recall  f1-score   support\n",
            "\n",
            "           1       0.86      0.76      0.81       593\n",
            "           2       0.73      0.84      0.78       448\n",
            "\n",
            "    accuracy                           0.80      1041\n",
            "   macro avg       0.80      0.80      0.80      1041\n",
            "weighted avg       0.81      0.80      0.80      1041\n",
            "\n"
          ]
        },
        {
          "output_type": "stream",
          "name": "stderr",
          "text": [
            "/usr/local/lib/python3.10/dist-packages/sklearn/neural_network/_multilayer_perceptron.py:686: ConvergenceWarning: Stochastic Optimizer: Maximum iterations (200) reached and the optimization hasn't converged yet.\n",
            "  warnings.warn(\n"
          ]
        }
      ]
    },
    {
      "cell_type": "code",
      "source": [],
      "metadata": {
        "id": "in4wvoX-k2qG"
      },
      "execution_count": null,
      "outputs": []
    }
  ]
}